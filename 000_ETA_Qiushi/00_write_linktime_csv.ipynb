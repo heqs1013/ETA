{
 "cells": [
  {
   "cell_type": "code",
   "execution_count": 2,
   "metadata": {
    "collapsed": true
   },
   "outputs": [],
   "source": [
    "import json\n",
    "import csv\n",
    "import pandas as pd\n",
    "import numpy as np"
   ]
  },
  {
   "cell_type": "code",
   "execution_count": 3,
   "metadata": {},
   "outputs": [],
   "source": [
    "with open('link_tmcset.json', 'r') as json_file:\n",
    "    link_tmcset = json.load(json_file)"
   ]
  },
  {
   "cell_type": "code",
   "execution_count": 3,
   "metadata": {
    "collapsed": true
   },
   "outputs": [],
   "source": [
    "with open('filtered_month_7_AM_dict.json', 'r') as json_file:\n",
    "    filtered_month_7_AM_dict = json.load(json_file)"
   ]
  },
  {
   "cell_type": "code",
   "execution_count": 4,
   "metadata": {
    "collapsed": true
   },
   "outputs": [],
   "source": [
    "#filtered_month_7_AM_dict['129N04386_7_31_5_3']"
   ]
  },
  {
   "cell_type": "code",
   "execution_count": 4,
   "metadata": {},
   "outputs": [
    {
     "name": "stdout",
     "output_type": "stream",
     "text": [
      "dict_keys(['link_22', 'link_23', 'link_20', 'link_21', 'link_13', 'link_12', 'link_11', 'link_10', 'link_17', 'link_16', 'link_15', 'link_14', 'link_19', 'link_18', 'link_9', 'link_8', 'link_3', 'link_2', 'link_1', 'link_0', 'link_7', 'link_6', 'link_5', 'link_4'])\n"
     ]
    }
   ],
   "source": [
    "print(link_tmcset.keys())"
   ]
  },
  {
   "cell_type": "code",
   "execution_count": 6,
   "metadata": {
    "collapsed": true
   },
   "outputs": [],
   "source": [
    "#list(link_tmcset.keys())[0]"
   ]
  },
  {
   "cell_type": "code",
   "execution_count": 26,
   "metadata": {},
   "outputs": [
    {
     "name": "stdout",
     "output_type": "stream",
     "text": [
      "link_travel_time\\link_22.csv\n",
      "link_travel_time\\link_23.csv\n",
      "link_travel_time\\link_20.csv\n",
      "link_travel_time\\link_21.csv\n",
      "link_travel_time\\link_13.csv\n",
      "link_travel_time\\link_12.csv\n",
      "link_travel_time\\link_11.csv\n",
      "link_travel_time\\link_10.csv\n",
      "link_travel_time\\link_17.csv\n",
      "link_travel_time\\link_16.csv\n",
      "link_travel_time\\link_15.csv\n",
      "link_travel_time\\link_14.csv\n",
      "link_travel_time\\link_19.csv\n",
      "link_travel_time\\link_18.csv\n",
      "link_travel_time\\link_9.csv\n",
      "link_travel_time\\link_8.csv\n",
      "link_travel_time\\link_3.csv\n",
      "link_travel_time\\link_2.csv\n",
      "link_travel_time\\link_1.csv\n",
      "link_travel_time\\link_0.csv\n",
      "link_travel_time\\link_7.csv\n",
      "link_travel_time\\link_6.csv\n",
      "link_travel_time\\link_5.csv\n",
      "link_travel_time\\link_4.csv\n"
     ]
    }
   ],
   "source": [
    "# calculate time_travel for every link\n",
    "for link in range(24):   \n",
    "    link_name = list(link_tmcset.keys())[link]\n",
    "    segs_name = link_tmcset[link_name]\n",
    "    l = len(segs_name)\n",
    "    link_time = np.zeros((31,240))    \n",
    "    # extract data for every segment in the link\n",
    "    for seg in range(0,l):      \n",
    "        seg_series = np.zeros((31,240))\n",
    "        # day\n",
    "        for k in range(1,32):\n",
    "            day = np.zeros((1,4*60))  \n",
    "            # hour\n",
    "            for i in range(5,9):\n",
    "                # minute\n",
    "                for j in range(0,60):\n",
    "                    s = segs_name[seg] + '_7_' + str(k) + '_' + str(i) + '_' + str(j)  \n",
    "                    data = filtered_month_7_AM_dict[s]\n",
    "                    try:\n",
    "                        travel_time = float(data.split('_')[1])\n",
    "                    except:\n",
    "                        travel_time = travel_time\n",
    "                    day[0,(i-5) * 60 + j] = travel_time\n",
    "            seg_series[k-1] = day\n",
    "        link_time = link_time + seg_series\n",
    "    \n",
    "    #write data using dataframe to csv\n",
    "    link_df = pd.DataFrame()\n",
    "    for day in range(1,32):\n",
    "        link_df = pd.concat([link_df,pd.DataFrame(link_time[day-1],pd.date_range('2017/7/'+str(day)+'/08:00',periods=240, freq='Min'))],axis=0)\n",
    "    filename = \"link_travel_time\\\\\" + link_name + \".csv\"\n",
    "    print(filename)\n",
    "    link_df.to_csv(filename)\n"
   ]
  },
  {
   "cell_type": "code",
   "execution_count": 24,
   "metadata": {},
   "outputs": [
    {
     "data": {
      "text/plain": [
       "'filename = \"link_travel_time\\\\\" + link_name + \".csv\"\\nwith open(filename,\"w\") as csvfile:\\n    print(link_name)\\n    writer = csv.writer(csvfile)\\n    writer.writerows(link_time)\\nwith open(filename,\\'rt\\')as fin:  #读有空行的csv文件，舍弃空行  \\n    lines=\\'\\'  \\n    for line in fin:  \\n        if line!=\\'\\n\\':  \\n            lines+=line  \\nwith open(filename,\\'wt\\')as fout:  #再次文本方式写入，不含空行  \\n    fout.write(lines)'"
      ]
     },
     "execution_count": 24,
     "metadata": {},
     "output_type": "execute_result"
    }
   ],
   "source": [
    "# write data to csv(seperate file for per link) \n",
    "'''filename = \"link_travel_time\\\\\" + link_name + \".csv\"\n",
    "with open(filename,\"w\") as csvfile:\n",
    "    print(link_name)\n",
    "    writer = csv.writer(csvfile)\n",
    "    writer.writerows(link_time)\n",
    "with open(filename,'rt')as fin:  #读有空行的csv文件，舍弃空行  \n",
    "    lines=''  \n",
    "    for line in fin:  \n",
    "        if line!='\\n':  \n",
    "            lines+=line  \n",
    "with open(filename,'wt')as fout:  #再次文本方式写入，不含空行  \n",
    "    fout.write(lines)''' "
   ]
  },
  {
   "cell_type": "code",
   "execution_count": null,
   "metadata": {
    "collapsed": true
   },
   "outputs": [],
   "source": []
  }
 ],
 "metadata": {
  "kernelspec": {
   "display_name": "Python 3",
   "language": "python",
   "name": "python3"
  },
  "language_info": {
   "codemirror_mode": {
    "name": "ipython",
    "version": 3
   },
   "file_extension": ".py",
   "mimetype": "text/x-python",
   "name": "python",
   "nbconvert_exporter": "python",
   "pygments_lexer": "ipython3",
   "version": "3.6.1"
  }
 },
 "nbformat": 4,
 "nbformat_minor": 2
}
