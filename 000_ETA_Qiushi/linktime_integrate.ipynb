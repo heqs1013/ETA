{
 "cells": [
  {
   "cell_type": "code",
   "execution_count": 7,
   "metadata": {
    "collapsed": true
   },
   "outputs": [],
   "source": [
    "import csv\n",
    "import numpy as np\n",
    "import json"
   ]
  },
  {
   "cell_type": "code",
   "execution_count": 8,
   "metadata": {},
   "outputs": [],
   "source": [
    "with open('link_tmcset.json', 'r') as json_file:\n",
    "    link_tmcset = json.load(json_file)\n",
    "with open('filtered_month_7_AM_dict.json', 'r') as json_file:\n",
    "    filtered_month_7_AM_dict = json.load(json_file)"
   ]
  },
  {
   "cell_type": "code",
   "execution_count": 9,
   "metadata": {
    "collapsed": true
   },
   "outputs": [],
   "source": [
    "linktime_dict = {}\n",
    "# calculate time_travel for every link\n",
    "for link in range(24):   \n",
    "    link_name = list(link_tmcset.keys())[link]\n",
    "    segs_name = link_tmcset[link_name]\n",
    "    l = len(segs_name)\n",
    "    link_time = np.zeros((31,240))    \n",
    "    \n",
    "    # extract data for every segment in the link\n",
    "    for k in range(1,32):  # day\n",
    "        for i in range(5,9): # hour\n",
    "            for j in range(0,60):  # minute\n",
    "                t = 0\n",
    "                for seg in range(0,l): \n",
    "                    s = segs_name[seg] + '_7_' + str(k) + '_' + str(i) + '_' + str(j)  \n",
    "                    data = filtered_month_7_AM_dict[s]\n",
    "                    try:\n",
    "                        travel_time = float(data.split('_')[1])\n",
    "                    except:\n",
    "                        travel_time = travel_time\n",
    "                    t += travel_time\n",
    "                linktime_dict[link_name + '_7_' + str(k) + '_' + str(i) + '_' + str(j)] = t    "
   ]
  },
  {
   "cell_type": "code",
   "execution_count": 12,
   "metadata": {},
   "outputs": [],
   "source": [
    "#len(linktime_dict)"
   ]
  },
  {
   "cell_type": "code",
   "execution_count": 13,
   "metadata": {},
   "outputs": [],
   "source": [
    "jsObj = json.dumps(linktime_dict) \n",
    "fileObject = open('link_time.json', 'w')  \n",
    "fileObject.write(jsObj)  \n",
    "fileObject.close()  "
   ]
  },
  {
   "cell_type": "code",
   "execution_count": null,
   "metadata": {
    "collapsed": true
   },
   "outputs": [],
   "source": []
  }
 ],
 "metadata": {
  "kernelspec": {
   "display_name": "Python 3",
   "language": "python",
   "name": "python3"
  },
  "language_info": {
   "codemirror_mode": {
    "name": "ipython",
    "version": 3
   },
   "file_extension": ".py",
   "mimetype": "text/x-python",
   "name": "python",
   "nbconvert_exporter": "python",
   "pygments_lexer": "ipython3",
   "version": "3.6.1"
  }
 },
 "nbformat": 4,
 "nbformat_minor": 2
}
