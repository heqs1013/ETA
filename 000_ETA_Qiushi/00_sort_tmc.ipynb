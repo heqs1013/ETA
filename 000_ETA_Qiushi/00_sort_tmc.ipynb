{
 "cells": [
  {
   "cell_type": "code",
   "execution_count": 41,
   "metadata": {
    "collapsed": true
   },
   "outputs": [],
   "source": [
    "import json\n",
    "import csv\n",
    "import pandas as pd\n",
    "import numpy as np\n",
    "with open('link_tmcset.json', 'r') as json_file:\n",
    "    link_tmcset = json.load(json_file)"
   ]
  },
  {
   "cell_type": "code",
   "execution_count": 46,
   "metadata": {
    "collapsed": true
   },
   "outputs": [],
   "source": [
    "# write original link and tmc in it\n",
    "filename = \"tmc_order_within_link_org.csv\"\n",
    "with open(filename,\"w\") as csvfile:\n",
    "    writer = csv.writer(csvfile)\n",
    "    for link in range(24):   \n",
    "        link_name = list(link_tmcset.keys())[link]\n",
    "        segs_name = link_tmcset[link_name]\n",
    "        #print(str(link)+':'+link_name)\n",
    "        #print(segs_name)\n",
    "        writer.writerow([str(link_name)])\n",
    "        writer.writerow(segs_name)"
   ]
  },
  {
   "cell_type": "code",
   "execution_count": 49,
   "metadata": {
    "collapsed": true
   },
   "outputs": [],
   "source": [
    "# delete empty lines\n",
    "with open(filename,'rt')as fin:  #读有空行的csv文件，舍弃空行  \n",
    "    lines=''  \n",
    "    for line in fin:  \n",
    "        if line!='\\n':  \n",
    "            lines+=line  \n",
    "with open(filename,'wt')as fout:  #再次文本方式写入，不含空行  \n",
    "    fout.write(lines)\n"
   ]
  },
  {
   "cell_type": "code",
   "execution_count": 48,
   "metadata": {
    "collapsed": true
   },
   "outputs": [],
   "source": [
    "filename = \"tmc_order_within_link_org.csv\"\n",
    "outname = \"tmc_order_within_link.csv\"\n",
    "with open(filename,'rt')as fin:\n",
    "    lines=''\n",
    "    flag = 0\n",
    "    for line in fin:\n",
    "        if(flag == 1):\n",
    "            lines +=line\n",
    "            flag = 0\n",
    "        else:\n",
    "            flag = 1\n",
    "with open(outname,'wt')as fout:    \n",
    "    fout.write(lines)"
   ]
  },
  {
   "cell_type": "code",
   "execution_count": 60,
   "metadata": {},
   "outputs": [
    {
     "name": "stdout",
     "output_type": "stream",
     "text": [
      "24\n"
     ]
    }
   ],
   "source": [
    "# order tmc\n",
    "filename = \"link_order_2.csv\"\n",
    "with open(filename) as csvfile:\n",
    "    reader = csv.reader(csvfile)\n",
    "    rows = [row for row in reader]\n",
    "#print(len(rows[9]))"
   ]
  },
  {
   "cell_type": "code",
   "execution_count": 112,
   "metadata": {},
   "outputs": [
    {
     "name": "stdout",
     "output_type": "stream",
     "text": [
      "['link_0']\n",
      "['link_1']\n",
      "['link_2']\n",
      "['link_3']\n",
      "['link_4']\n",
      "['link_5']\n",
      "['link_6']\n",
      "['link_7']\n",
      "['link_8']\n",
      "['link_9']\n",
      "['link_10']\n",
      "['link_11']\n",
      "['link_12']\n",
      "['link_13']\n",
      "['link_14']\n",
      "['link_15']\n",
      "['link_16']\n",
      "['link_17']\n",
      "['link_18']\n",
      "['link_19']\n",
      "['link_20']\n",
      "['link_21']\n",
      "['link_22']\n",
      "['link_23']\n"
     ]
    }
   ],
   "source": [
    "filename = \"tmc_order.csv\"\n",
    "with open(filename,\"w\") as csvfile:\n",
    "    writer = csv.writer(csvfile)\n",
    "    for pair in range(int(len(rows)/2)):\n",
    "        i = pair*2\n",
    "        line = []\n",
    "        line.append(rows[i][0])\n",
    "        up = []  #for +/-\n",
    "        down = []  #for P/N\n",
    "        j = 1\n",
    "        k = 1\n",
    "        while j < len(rows[0]) and rows[i][j] != \"\":\n",
    "            if '+' in rows[i][j]:\n",
    "                up.append(int(rows[i][j].split('+')[1]))\n",
    "                flag = 1\n",
    "            else:  # if 'N' in rows[i][j]:\n",
    "                flag = 0\n",
    "                down.append(int(rows[i][j].split('N')[1]))\n",
    "            j += 1\n",
    "        while k < len(rows[0]) and rows[i+1][k] != \"\":\n",
    "            if 'P' in rows[i+1][k]:\n",
    "                down.append(int(rows[i+1][k].split('P')[1]))\n",
    "            else:  # if '-' in rows[i+1][k]:\n",
    "                up.append(int(rows[i+1][k].split('-')[1]))\n",
    "            k += 1\n",
    "        #print(up)\n",
    "        #print(down)\n",
    "        print(line)\n",
    "        #print(i,i+1)\n",
    "        j = 0\n",
    "        k = 0    \n",
    "        while j < len(up) or k < len(down):\n",
    "            if j == len(up) :\n",
    "                line.append(rows[i+1][k+1])\n",
    "                k += 1\n",
    "                continue\n",
    "            if k == len(down):\n",
    "                line.append(rows[i][j+1])\n",
    "                j += 1\n",
    "                continue            \n",
    "            if flag:\n",
    "                if up[j] <= down[k]:\n",
    "                    line.append(rows[i][j+1])\n",
    "                    j += 1\n",
    "                else:\n",
    "                    line.append(rows[i+1][k+1])\n",
    "                    k += 1\n",
    "            else:\n",
    "                if up[j] >= down[k]:\n",
    "                    line.append(rows[i+1][j+1])\n",
    "                    j += 1\n",
    "                else:\n",
    "                    line.append(rows[i][k+1])\n",
    "                    k += 1  \n",
    "        #print(flag)\n",
    "        writer.writerow(line)"
   ]
  },
  {
   "cell_type": "code",
   "execution_count": 113,
   "metadata": {
    "collapsed": true
   },
   "outputs": [],
   "source": [
    "# delete empty lines\n",
    "with open(filename,'rt')as fin:  #读有空行的csv文件，舍弃空行  \n",
    "    lines=''  \n",
    "    for line in fin:  \n",
    "        if line!='\\n':  \n",
    "            lines+=line  \n",
    "with open(filename,'wt')as fout:  #再次文本方式写入，不含空行  \n",
    "    fout.write(lines)"
   ]
  },
  {
   "cell_type": "code",
   "execution_count": null,
   "metadata": {
    "collapsed": true
   },
   "outputs": [],
   "source": [
    "with open('link_tmc_order.json', 'r') as json_file:\n",
    "    link_tmc_order = json.load(json_file)\n",
    "print(link_tmc_order.keys())\n",
    "print(link_tmc_order[list(link_tmc_order.keys())[0]])"
   ]
  }
 ],
 "metadata": {
  "kernelspec": {
   "display_name": "Python 3",
   "language": "python",
   "name": "python3"
  },
  "language_info": {
   "codemirror_mode": {
    "name": "ipython",
    "version": 3
   },
   "file_extension": ".py",
   "mimetype": "text/x-python",
   "name": "python",
   "nbconvert_exporter": "python",
   "pygments_lexer": "ipython3",
   "version": "3.6.1"
  }
 },
 "nbformat": 4,
 "nbformat_minor": 2
}
