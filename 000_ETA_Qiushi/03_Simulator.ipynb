{
 "cells": [
  {
   "cell_type": "code",
   "execution_count": 1,
   "metadata": {
    "collapsed": true
   },
   "outputs": [],
   "source": [
    "import json\n",
    "import numpy as np\n",
    "import math\n",
    "month = [31,29,31,30,31,30,31,31,30,31,30,31]"
   ]
  },
  {
   "cell_type": "code",
   "execution_count": 2,
   "metadata": {
    "collapsed": true
   },
   "outputs": [],
   "source": [
    "with open('link_tmc_order.json', 'r') as json_file:\n",
    "    link_tmcset = json.load(json_file)\n",
    "with open('filtered_month_7_AM_dict.json', 'r') as json_file:\n",
    "    filtered_month_7_AM_dict = json.load(json_file)"
   ]
  },
  {
   "cell_type": "code",
   "execution_count": 46,
   "metadata": {
    "collapsed": true
   },
   "outputs": [],
   "source": [
    "def add_time(start, time):\n",
    "    start[3] += time\n",
    "    print(start)\n",
    "    while start[3] > 59:\n",
    "        start[2] += 1\n",
    "        start[3] -= 60\n",
    "        if start[2] > 23:\n",
    "            start[2] -= 24\n",
    "            start[1] += 1\n",
    "        if start[1] > month[start[0]]:\n",
    "            start[1] -= month[start[0]]\n",
    "            start[0] += 1\n",
    "        if start[0] > 12:\n",
    "            start[0] -= 12"
   ]
  },
  {
   "cell_type": "code",
   "execution_count": 47,
   "metadata": {
    "collapsed": true
   },
   "outputs": [],
   "source": [
    "# inputs of the simulator\n",
    "'''\n",
    "1. start time\n",
    "2. links(in order)\n",
    "'''\n",
    "\n",
    "# input for test\n",
    "links = ['link_2','link_4']\n",
    "start = [7,25,6,30]"
   ]
  },
  {
   "cell_type": "code",
   "execution_count": 43,
   "metadata": {},
   "outputs": [
    {
     "name": "stdout",
     "output_type": "stream",
     "text": [
      "link_2\n",
      "129+04377_7_25_6_30 0 0.09\n",
      "129P04377_7_25_6_30 0 0.6699999999999999\n",
      "129+04378_7_25_6_30 1 1.4\n",
      "129P04378_7_25_6_31 1 1.79\n",
      "129+04379_7_25_6_31 2 2.06\n",
      "129P04379_7_25_6_32 2 2.5300000000000002\n",
      "129+04380_7_25_6_32 3 3.04\n",
      "129P04380_7_25_6_33 3 3.29\n",
      "129+04381_7_25_6_33 4 4.25\n",
      "129P04381_7_25_6_34 4 4.51\n",
      "129+04382_7_25_6_34 4 4.93\n",
      "129P04382_7_25_6_34 5 5.31\n",
      "129+04383_7_25_6_35 6 6.25\n",
      "129P04383_7_25_6_36 6 6.49\n",
      "129+04384_7_25_6_36 6 6.54\n",
      "129P04384_7_25_6_36 7 7.12\n",
      "129+04385_7_25_6_37 7 7.42\n",
      "129P04385_7_25_6_37 8 8.4\n",
      "129+04386_7_25_6_38 9 9.4\n",
      "129P04386_7_25_6_39 9 9.66\n",
      "129+04387_7_25_6_39 10 10.43\n",
      "129P04387_7_25_6_40 10 10.959999999999999\n",
      "129+04388_7_25_6_40 10 10.979999999999999\n",
      "129P04388_7_25_6_40 11 11.379999999999999\n",
      "129+04389_7_25_6_41 11 11.85\n",
      "129P04390_7_25_6_41 12 12.209999999999999\n",
      "129+04391_7_25_6_42 14 14.0\n",
      "129P04391_7_25_6_44 14 14.39\n",
      "129+04392_7_25_6_44 15 15.350000000000001\n",
      "129P04392_7_25_6_45 15 15.820000000000002\n",
      "129+04393_7_25_6_45 17 17.310000000000002\n",
      "129P04393_7_25_6_47 17 17.8\n",
      "129+04394_7_25_6_47 18 18.900000000000002\n",
      "129P04394_7_25_6_48 19 19.42\n",
      "129+04395_7_25_6_49 21 21.98\n",
      "129P04395_7_25_6_51 22 22.39\n",
      "129+04396_7_25_6_52 23 23.560000000000002\n",
      "129P04396_7_25_6_53 24 24.040000000000003\n",
      "129+04397_7_25_6_54 25 25.860000000000003\n",
      "129P04397_7_25_6_55 26 26.35\n",
      "129+04398_7_25_6_56 27 27.860000000000003\n",
      "129P04398_7_25_6_57 28 28.240000000000002\n",
      "129+04399_7_25_6_58 28 28.750000000000004\n",
      "link_4\n",
      "129+04135_7_25_6_58 30 30.740000000000002\n",
      "129P04135_7_25_7_0 31 31.040000000000003\n",
      "129+04136_7_25_7_1 31 31.85\n",
      "129P04136_7_25_7_1 32 32.09\n",
      "129P04137_7_25_7_2 32 32.32\n",
      "129P04138_7_25_7_2 32 32.83\n",
      "129+04139_7_25_7_2 35 35.0\n",
      "129P04139_7_25_7_5 35 35.23\n",
      "129+04140_7_25_7_5 36 36.22\n",
      "129P04140_7_25_7_6 36 36.68\n",
      "129+04141_7_25_7_6 37 37.35\n"
     ]
    }
   ],
   "source": [
    "time = 0  #int, discrete sample index  \n",
    "cost = 0  #float real travel-time\n",
    "d_time = 0\n",
    "for link in range(len(links)):\n",
    "    link_key = links[link]\n",
    "    print(link_key)\n",
    "    segs = link_tmcset[link_key]\n",
    "    for seg in range(len(segs)):\n",
    "        add_time(start,d_time)\n",
    "        seg_key = segs[seg]+'_'+str(start[0])+'_'+str(start[1])+'_'+str(start[2])+'_'+str(start[3])\n",
    "        if start[2]>8:\n",
    "            print('No data after 9:00 AM,simulate terminated!')\n",
    "            break\n",
    "        try:\n",
    "            cost += float(filtered_month_7_AM_dict[seg_key].split('_')[1])\n",
    "        except:\n",
    "            if start[3]>0:\n",
    "                seg_key = segs[seg]+'_'+str(start[0])+'_'+str(start[1])+'_'+str(start[2])+'_'+str(start[3]-1)\n",
    "            else:\n",
    "                seg_key = segs[seg]+'_'+str(start[0])+'_'+str(start[1])+'_'+str(start[2])+'_'+str(start[3]+1)            \n",
    "            #try:\n",
    "            cost += float(filtered_month_7_AM_dict[seg_key].split('_')[1])\n",
    "            #except:\n",
    "                #print('Error!consecutive loss of data')\n",
    "        d_time = math.floor(cost - time)\n",
    "        time = math.floor(cost)        \n",
    "        print(seg_key,time,cost)\n",
    "        #print(seg_key,cost,time,d_time)"
   ]
  },
  {
   "cell_type": "code",
   "execution_count": 44,
   "metadata": {},
   "outputs": [
    {
     "name": "stdout",
     "output_type": "stream",
     "text": [
      "37.35\n"
     ]
    }
   ],
   "source": [
    "print(cost)"
   ]
  },
  {
   "cell_type": "code",
   "execution_count": 45,
   "metadata": {
    "collapsed": true
   },
   "outputs": [],
   "source": [
    "#filtered_month_7_AM_dict['129+04377_7_25_10_30']"
   ]
  },
  {
   "cell_type": "code",
   "execution_count": 49,
   "metadata": {},
   "outputs": [
    {
     "name": "stdout",
     "output_type": "stream",
     "text": [
      "[7, 25, 6, 31]\n",
      "[7, 25, 6, 32]\n",
      "[7, 25, 6, 33]\n",
      "[7, 25, 6, 34]\n",
      "[7, 25, 6, 35]\n",
      "[7, 25, 6, 36]\n",
      "[7, 25, 6, 37]\n",
      "[7, 25, 6, 38]\n",
      "[7, 25, 6, 39]\n",
      "[7, 25, 6, 40]\n"
     ]
    }
   ],
   "source": [
    "for i in range(10):\n",
    "    add_time(start,1)"
   ]
  },
  {
   "cell_type": "code",
   "execution_count": null,
   "metadata": {
    "collapsed": true
   },
   "outputs": [],
   "source": []
  }
 ],
 "metadata": {
  "kernelspec": {
   "display_name": "Python 3",
   "language": "python",
   "name": "python3"
  },
  "language_info": {
   "codemirror_mode": {
    "name": "ipython",
    "version": 3
   },
   "file_extension": ".py",
   "mimetype": "text/x-python",
   "name": "python",
   "nbconvert_exporter": "python",
   "pygments_lexer": "ipython3",
   "version": "3.6.1"
  }
 },
 "nbformat": 4,
 "nbformat_minor": 2
}
