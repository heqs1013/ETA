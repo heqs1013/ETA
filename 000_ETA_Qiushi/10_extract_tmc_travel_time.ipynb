{
 "cells": [
  {
   "cell_type": "code",
   "execution_count": 14,
   "metadata": {
    "collapsed": true
   },
   "outputs": [],
   "source": [
    "import csv\n",
    "import glob\n",
    "import json\n",
    "\n",
    "data_folder = 'raw_data/'\n",
    "input_file = data_folder + 'apr000000000000.csv' #apr000000000000.csv.gz.\n",
    "#input_file = data_folder + 'test.csv'\n",
    "tmc_set = data_folder + 'tmc_list.csv'"
   ]
  },
  {
   "cell_type": "code",
   "execution_count": 15,
   "metadata": {},
   "outputs": [],
   "source": [
    "tmc_travel_time = []\n",
    "\n",
    "with open(tmc_set) as tmcs:\n",
    "    all_tmc = list(csv.reader(tmcs))    \n",
    "    tmc_list = []\n",
    "    for i in range(len(all_tmc)-2):\n",
    "        tmc_list.append(all_tmc[i+2][1])\n",
    "    #print (tmc_list)\n",
    "    \n",
    "    # for input_file in glob.glob(data_folder + '*.csv'):\n",
    "    with open(input_file) as inp:\n",
    "        for row in csv.reader(inp):\n",
    "            if 'tmc' not in row:\n",
    "                if row[0] in tmc_list:\n",
    "                    key = row[0]+'_'+row[1]+'_'+row[2]+'_'+row[4]+'_'+row[5]\n",
    "                    tmc_travel_time.append((key, row[9]))                       \n",
    "    tmc_travel_time = list(set(tmc_travel_time))\n",
    "#print(len(tmc_travel_time))"
   ]
  },
  {
   "cell_type": "code",
   "execution_count": 16,
   "metadata": {},
   "outputs": [
    {
     "name": "stdout",
     "output_type": "stream",
     "text": [
      "25953\n"
     ]
    }
   ],
   "source": [
    "print(len(tmc_travel_time))"
   ]
  },
  {
   "cell_type": "code",
   "execution_count": 24,
   "metadata": {},
   "outputs": [],
   "source": [
    "# make a dictionary mapping tmc to reference speed\n",
    "tmc_travel_time_dict = {tmc_travel_time[i][0]: tmc_travel_time[i][1] for i in range(len(tmc_travel_time))}\n",
    "jsObj = json.dumps(tmc_travel_time_dict)\n",
    "\n",
    "#readed = json.load(open('tmc_travel_time_apr.json','r'))\n",
    "#json.dump(readed,open('tmc_travel_time_apr.json','w'))\n",
    "with open('tmc_travel_time_apr.json','w') as jsonfile:\n",
    "    json.dump(tmc_travel_time_dict,jsonfile)\n"
   ]
  },
  {
   "cell_type": "code",
   "execution_count": 18,
   "metadata": {
    "collapsed": true
   },
   "outputs": [],
   "source": [
    "my_dict = {'testing':'hhh'}\n",
    "jsObj = json.dumps(my_dict)\n",
    "\n",
    "with open('tmc_travel_time_apr.json','w') as jsonfile:\n",
    "    jsonfile.write(jsObj)"
   ]
  },
  {
   "cell_type": "code",
   "execution_count": null,
   "metadata": {
    "collapsed": true
   },
   "outputs": [],
   "source": []
  }
 ],
 "metadata": {
  "kernelspec": {
   "display_name": "Python 3",
   "language": "python",
   "name": "python3"
  },
  "language_info": {
   "codemirror_mode": {
    "name": "ipython",
    "version": 3
   },
   "file_extension": ".py",
   "mimetype": "text/x-python",
   "name": "python",
   "nbconvert_exporter": "python",
   "pygments_lexer": "ipython3",
   "version": "3.6.1"
  }
 },
 "nbformat": 4,
 "nbformat_minor": 2
}
