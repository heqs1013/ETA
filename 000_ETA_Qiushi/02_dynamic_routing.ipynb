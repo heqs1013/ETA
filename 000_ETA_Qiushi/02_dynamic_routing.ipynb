{
 "cells": [
  {
   "cell_type": "code",
   "execution_count": 41,
   "metadata": {
    "collapsed": true
   },
   "outputs": [],
   "source": [
    "import json\n",
    "import csv\n",
    "#import pandas as pd\n",
    "import numpy as np\n",
    "from sys import argv"
   ]
  },
  {
   "cell_type": "code",
   "execution_count": 48,
   "metadata": {
    "collapsed": true
   },
   "outputs": [],
   "source": [
    "file = open('test_link_time.json',\"r\")\n",
    "link_time = json.load(file)\n",
    "#link_time.keys()\n",
    "#link_time['link1_2']"
   ]
  },
  {
   "cell_type": "code",
   "execution_count": 12,
   "metadata": {
    "collapsed": true
   },
   "outputs": [],
   "source": [
    "def get_graph():\n",
    "    #filename = argv[1]\n",
    "    filename = 'test.txt'  # single-direction graph\n",
    "    graph = {}\n",
    "    with open(filename) as g:\n",
    "        i = 1\n",
    "        for line in g:\n",
    "            l = line.split()\n",
    "            vertex = int(l.pop(0))\n",
    "            graph[vertex] = {}\n",
    "            for x in l:\n",
    "                adj_vert, link = x.split(\",\")#map(str, x.split(\",\"))\n",
    "                graph[vertex][adj_vert] = link\n",
    "            #print (\"Got graph. Ex: line \",i, \":\", graph[i])\n",
    "            i += 1\n",
    "    return graph"
   ]
  },
  {
   "cell_type": "code",
   "execution_count": 13,
   "metadata": {
    "collapsed": true
   },
   "outputs": [],
   "source": [
    "G = get_graph()\n",
    "#G.keys()"
   ]
  },
  {
   "cell_type": "code",
   "execution_count": 124,
   "metadata": {
    "collapsed": true
   },
   "outputs": [],
   "source": [
    "def dijkstra_score_d(G, shortest_distances, v, w):\n",
    "    time = int(np.floor(shortest_distances[v]))\n",
    "    name = 'link'+ str(v) + '_' + str(w)\n",
    "    return shortest_distances[v] + float(link_time[name][time])"
   ]
  },
  {
   "cell_type": "code",
   "execution_count": 125,
   "metadata": {
    "collapsed": true
   },
   "outputs": [],
   "source": [
    "# dijkstra based on time-dependent-cost\n",
    "def dijkstra_d(G, source):\n",
    "    unprocessed = set(G.keys()) # vertices whose shortest paths from source have not yet been calculated\n",
    "    unprocessed.remove(source)\n",
    "    shortest_distances = {source: 0}\n",
    "    shortest_route = {source: source}\n",
    " \n",
    "    for i in range(len(G) - 1):\n",
    "        # find a vertex with the next shortest path, i.e. minimal Dijkstra score\n",
    "        m, closest_head = float('inf'), 0  #shortest distance, vertex index\n",
    "        #print(shortest_distances)\n",
    "        for tail in shortest_distances:\n",
    "            for head in G[tail]:\n",
    "                head = int(head)\n",
    "                if head in unprocessed:\n",
    "                    d = dijkstra_score_d(G, shortest_distances, tail, head)\n",
    "                    if d < m:\n",
    "                        m, closest_head = d, head\n",
    "                        closest_nb = tail\n",
    "        try:\n",
    "            #print(closest_head)\n",
    "            unprocessed.remove(closest_head)\n",
    "            shortest_distances[closest_head] = m\n",
    "            shortest_route[closest_head] = closest_nb\n",
    "        except:\n",
    "            break\n",
    " \n",
    "    # in case G is not fully connected\n",
    "    for vertex in unprocessed:\n",
    "        shortest_distances[vertex] = float('inf')\n",
    " \n",
    "    return [shortest_distances,shortest_route]"
   ]
  },
  {
   "cell_type": "code",
   "execution_count": 131,
   "metadata": {
    "collapsed": true
   },
   "outputs": [],
   "source": [
    "def dijkstra_score_s(G, shortest_distances, v, w, t):\n",
    "    name = 'link'+ str(v) + '_' + str(w)\n",
    "    return shortest_distances[v] + float(link_time[name][t])"
   ]
  },
  {
   "cell_type": "code",
   "execution_count": 156,
   "metadata": {
    "collapsed": true
   },
   "outputs": [],
   "source": [
    "# dijkstra based on static cost at time t\n",
    "def dijkstra_s(G, source, t):\n",
    "    unprocessed = set(G.keys()) # vertices whose shortest paths from source have not yet been calculated\n",
    "    unprocessed.remove(source)\n",
    "    shortest_distances = {source: 0}\n",
    "    shortest_route = {source: source}\n",
    " \n",
    "    for i in range(len(G) - 1):\n",
    "        # find a vertex with the next shortest path, i.e. minimal Dijkstra score\n",
    "        m, closest_head = float('inf'), 0  #shortest distance, vertex index\n",
    "        #print(shortest_distances)\n",
    "        for tail in shortest_distances:\n",
    "            for head in G[tail]:\n",
    "                head = int(head)\n",
    "                if head in unprocessed:\n",
    "                    d = dijkstra_score_s(G, shortest_distances, tail, head, t)\n",
    "                    if d < m:\n",
    "                        m, closest_head = d, head\n",
    "                        closest_nb = tail\n",
    "        try:\n",
    "            #print(closest_head,m,closest_nb)\n",
    "            unprocessed.remove(closest_head)\n",
    "            shortest_distances[closest_head] = m\n",
    "            shortest_route[closest_head] = closest_nb\n",
    "        except:\n",
    "            break\n",
    " \n",
    "    # in case G is not fully connected\n",
    "    for vertex in unprocessed:\n",
    "        shortest_distances[vertex] = float('inf')\n",
    " \n",
    "    return [shortest_distances,shortest_route]"
   ]
  },
  {
   "cell_type": "code",
   "execution_count": 161,
   "metadata": {},
   "outputs": [
    {
     "name": "stdout",
     "output_type": "stream",
     "text": [
      "ETA: 5.0\n",
      "Estimated route: [2, 6, 8, 10]\n"
     ]
    }
   ],
   "source": [
    "# test for multi-step static (greedy)\n",
    "o = 2\n",
    "d = 10\n",
    "time = 0\n",
    "[dis,rt] = dijkstra_s(G,o,time)\n",
    "#print(dis)\n",
    "#print(rt)\n",
    "# recover the whole route between O and D\n",
    "print('ETA:',dis[d])\n",
    "if d in rt:\n",
    "    route = [d]\n",
    "    D = d\n",
    "    while rt[D] != o:\n",
    "        D = rt[D]\n",
    "        route.append(D)\n",
    "    route.append(o)\n",
    "    # convers vector route\n",
    "    R = []\n",
    "    for i in range(len(route)):\n",
    "        R.append(route[len(route)-1-i])\n",
    "    print('Estimated route:',R)\n",
    "else:\n",
    "    print('Destination cannot arrive!')\n"
   ]
  },
  {
   "cell_type": "code",
   "execution_count": 159,
   "metadata": {},
   "outputs": [
    {
     "name": "stdout",
     "output_type": "stream",
     "text": [
      "link2_6\n",
      "link6_9\n",
      "link9_10\n",
      "ATA: 8\n",
      "Actual route: [2, 6, 9, 10]\n"
     ]
    }
   ],
   "source": [
    "# update data after passing a link\n",
    "ATA = 0\n",
    "A_route = [o]\n",
    "while o != d:\n",
    "    new = route[len(route) - 2]\n",
    "    name = 'link'+ str(o) + '_' + str(new)\n",
    "    #print(name)\n",
    "    o = new\n",
    "    A_route.append(o)\n",
    "    ATA += link_time[name][time]\n",
    "    time = int(np.floor(ATA))\n",
    "    [dis,rt] = dijkstra_s(G,o,time)\n",
    "    #print(dis)\n",
    "    #print(rt)\n",
    "    # recover the whole route between O and D\n",
    "    if d in rt:\n",
    "        route = [d]\n",
    "        D = d\n",
    "        while rt[D] != o:\n",
    "            D = rt[D]\n",
    "            route.append(D)\n",
    "        route.append(o)\n",
    "        #print(route)\n",
    "    else:\n",
    "        print('Destination cannot arrive!')\n",
    "print('ATA:',ATA)\n",
    "print('Actual route:',A_route)"
   ]
  },
  {
   "cell_type": "code",
   "execution_count": 162,
   "metadata": {},
   "outputs": [
    {
     "name": "stdout",
     "output_type": "stream",
     "text": [
      "ETA: 5.0\n",
      "Estimated route: [2, 5, 7, 10]\n"
     ]
    }
   ],
   "source": [
    "# test for dynamic\n",
    "o = 2\n",
    "[dis,rt] = dijkstra_d(G,o)\n",
    "print('ETA:',dis[d])\n",
    "#print(dis)\n",
    "#print(rt)\n",
    "\n",
    "# recover the whole route between O and D\n",
    "d = 10\n",
    "if d in rt:\n",
    "    route = [d]\n",
    "    D = d\n",
    "    while rt[D] != o:\n",
    "        D = rt[D]\n",
    "        route.append(D)\n",
    "    route.append(o)\n",
    "    # convers vector route\n",
    "    R = []\n",
    "    for i in range(len(route)):\n",
    "        R.append(route[len(route)-1-i])\n",
    "    print('Estimated route:',R)\n",
    "else:\n",
    "    print('Destination cannot arrive!')"
   ]
  },
  {
   "cell_type": "code",
   "execution_count": null,
   "metadata": {
    "collapsed": true
   },
   "outputs": [],
   "source": []
  }
 ],
 "metadata": {
  "kernelspec": {
   "display_name": "Python 3",
   "language": "python",
   "name": "python3"
  },
  "language_info": {
   "codemirror_mode": {
    "name": "ipython",
    "version": 3
   },
   "file_extension": ".py",
   "mimetype": "text/x-python",
   "name": "python",
   "nbconvert_exporter": "python",
   "pygments_lexer": "ipython3",
   "version": "3.6.1"
  }
 },
 "nbformat": 4,
 "nbformat_minor": 2
}
