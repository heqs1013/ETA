{
 "cells": [
  {
   "cell_type": "code",
   "execution_count": 1,
   "metadata": {
    "collapsed": true
   },
   "outputs": [],
   "source": [
    "%run util_data_storage_and_load.py"
   ]
  },
  {
   "cell_type": "code",
   "execution_count": 2,
   "metadata": {},
   "outputs": [
    {
     "name": "stdout",
     "output_type": "stream",
     "text": [
      "No dicts found; please check load_dicts...\n"
     ]
    }
   ],
   "source": [
    "link_1_1, link_1_2, link_2_1, link_2_2, link_3_1, link_3_2, \\\n",
    "link_4_1, link_4_2, link_5_1, link_5_2, link_6_1, link_6_2, \\\n",
    "link_7_1, link_7_2, link_8_1, link_8_2, link_9_1, link_9_2, \\\n",
    "link_10_1, link_10_2, link_11_1, link_11_2, link_12_1, link_12_2 \\\n",
    "= zload('../temp_files/links_with_capac.pkz')"
   ]
  },
  {
   "cell_type": "code",
   "execution_count": 3,
   "metadata": {},
   "outputs": [
    {
     "data": {
      "text/plain": [
       "['129+04311',\n",
       " '129+04312',\n",
       " '129+04313',\n",
       " '129+04314',\n",
       " '129+04315',\n",
       " '129+04316',\n",
       " '129+04317',\n",
       " '129+04318',\n",
       " '129+04319',\n",
       " '129+04321',\n",
       " '129+04322',\n",
       " '129+04323',\n",
       " '129+04324',\n",
       " '129+04325',\n",
       " '129P04311',\n",
       " '129P04312',\n",
       " '129P04313',\n",
       " '129P04314',\n",
       " '129P04316',\n",
       " '129P04317',\n",
       " '129P04318',\n",
       " '129P04319',\n",
       " '129P04320',\n",
       " '129P04321',\n",
       " '129P04322',\n",
       " '129P04323',\n",
       " '129P04324']"
      ]
     },
     "execution_count": 3,
     "metadata": {},
     "output_type": "execute_result"
    }
   ],
   "source": [
    "link_1_1.tmc_set"
   ]
  },
  {
   "cell_type": "code",
   "execution_count": 4,
   "metadata": {},
   "outputs": [
    {
     "data": {
      "text/plain": [
       "['129-04322',\n",
       " '129-04323',\n",
       " '129-04324',\n",
       " '129-04310',\n",
       " '129-04311',\n",
       " '129-04312',\n",
       " '129-04313',\n",
       " '129-04314',\n",
       " '129-04315',\n",
       " '129-04316',\n",
       " '129-04317',\n",
       " '129-04318',\n",
       " '129-04319',\n",
       " '129-04320',\n",
       " '129-04321',\n",
       " '129N04311',\n",
       " '129N04312',\n",
       " '129N04313',\n",
       " '129N04314',\n",
       " '129N04315',\n",
       " '129N04316',\n",
       " '129N04317',\n",
       " '129N04318',\n",
       " '129N04319',\n",
       " '129N04320',\n",
       " '129N04321',\n",
       " '129N04322',\n",
       " '129N04323',\n",
       " '129N04324']"
      ]
     },
     "execution_count": 4,
     "metadata": {},
     "output_type": "execute_result"
    }
   ],
   "source": [
    "link_1_2.tmc_set"
   ]
  },
  {
   "cell_type": "code",
   "execution_count": null,
   "metadata": {
    "collapsed": true
   },
   "outputs": [],
   "source": []
  }
 ],
 "metadata": {
  "kernelspec": {
   "display_name": "Python 2",
   "language": "python",
   "name": "python2"
  },
  "language_info": {
   "codemirror_mode": {
    "name": "ipython",
    "version": 2
   },
   "file_extension": ".py",
   "mimetype": "text/x-python",
   "name": "python",
   "nbconvert_exporter": "python",
   "pygments_lexer": "ipython2",
   "version": "2.7.13"
  }
 },
 "nbformat": 4,
 "nbformat_minor": 2
}
